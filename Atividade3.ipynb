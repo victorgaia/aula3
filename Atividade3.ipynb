{
 "cells": [
  {
   "cell_type": "code",
   "execution_count": 8,
   "metadata": {},
   "outputs": [
    {
     "name": "stdout",
     "output_type": "stream",
     "text": [
      "Max half precision\n",
      "0 01101 0101010101 = 0.333251953125\n",
      "11110 => 13\n",
      "Expoente, 13 - 15\n",
      "(1 + 2**-2 + 2**-4 + 2**-6 + 2**-8 + 2**-10)*2**-2 = 0.333251953125 \n",
      "\n"
     ]
    }
   ],
   "source": [
    "print('Max half precision')\n",
    "print('0 01101 0101010101 = 0.333251953125')\n",
    "print('11110 =>', int('01101',2))\n",
    "print('Expoente, 13 - 15')\n",
    "print('(1 + 2**-2 + 2**-4 + 2**-6 + 2**-8 + 2**-10)*2**-2 =', (1 + 2**-2 + 2**-4 + 2**-6 + 2**-8 + 2**-10)*2**-2, '\\n')"
   ]
  },
  {
   "cell_type": "code",
   "execution_count": 62,
   "metadata": {},
   "outputs": [
    {
     "data": {
      "text/plain": [
       "0.333251953125"
      ]
     },
     "execution_count": 62,
     "metadata": {},
     "output_type": "execute_result"
    }
   ],
   "source": [
    "import numpy as np\n",
    "def ieee754(n):\n",
    "    sig=n[0]\n",
    "    exp=n[1]*2**4+n[2]*2**3+n[3]*2**2+n[4]*2**1+n[5]*2**0-15\n",
    "    k=1\n",
    "    num=0\n",
    "    for i in range(6,16):\n",
    "        num=num+n[i]*2**-k\n",
    "        k=k+1\n",
    "    if(exp==0):\n",
    "        return ((-1)**sig)*2**-14*(1+num)\n",
    "    else:\n",
    "        return (2**exp)*((-1)**sig)*(1+num)\n",
    "r=[0,0,1,1,0,1,0,1,0,1,0,1,0,1,0,1]\n",
    "ieee754(r)"
   ]
  },
  {
   "cell_type": "code",
   "execution_count": null,
   "metadata": {
    "collapsed": true
   },
   "outputs": [],
   "source": [
    "math.remain()"
   ]
  }
 ],
 "metadata": {
  "kernelspec": {
   "display_name": "Python 3",
   "language": "python",
   "name": "python3"
  },
  "language_info": {
   "codemirror_mode": {
    "name": "ipython",
    "version": 3
   },
   "file_extension": ".py",
   "mimetype": "text/x-python",
   "name": "python",
   "nbconvert_exporter": "python",
   "pygments_lexer": "ipython3",
   "version": "3.6.2"
  }
 },
 "nbformat": 4,
 "nbformat_minor": 2
}
